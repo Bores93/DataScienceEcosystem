{
 "cells": [
  {
   "cell_type": "markdown",
   "id": "d3db1481",
   "metadata": {},
   "source": [
    "# Data Science Tools and Ecosystem"
   ]
  },
  {
   "cell_type": "markdown",
   "id": "97e0fb55",
   "metadata": {},
   "source": [
    "In this notebook, Data Science Tools and Ecosystem are summarized."
   ]
  },
  {
   "cell_type": "markdown",
   "id": "61e28fd8",
   "metadata": {},
   "source": [
    "**Objectives:**\n",
    "\n",
    "    - Most popular languages.\n",
    "    - Most popular libraries used in Data Science.\n",
    "    - Correct use of markdowns."
   ]
  },
  {
   "cell_type": "markdown",
   "id": "4c6c1436",
   "metadata": {},
   "source": [
    "Some of the popular languages that Data Scientists use are:\n",
    "- Python\n",
    "- R\n",
    "- SQL"
   ]
  },
  {
   "cell_type": "markdown",
   "id": "30967140",
   "metadata": {},
   "source": [
    "Some of the commonly used libraries used by Data Scientists include:\n",
    "1. Pandas\n",
    "2. Matplotlib\n",
    "3. Numpy"
   ]
  },
  {
   "cell_type": "markdown",
   "id": "9dc27690",
   "metadata": {},
   "source": [
    "|Data Science Tools|\n",
    "|---------------------|\n",
    "|Jupyter Notebooks|\n",
    "|Rstudio|\n",
    "|Tableau|"
   ]
  },
  {
   "cell_type": "markdown",
   "id": "52b119e0",
   "metadata": {},
   "source": [
    "### Below are a few examples of evaluating arithmetic expressions in Python"
   ]
  },
  {
   "cell_type": "markdown",
   "id": "d14d65e1",
   "metadata": {},
   "source": [
    "This a simple arithmetic expression to mutiply then add integers\n",
    "$ (3*4)+5 $"
   ]
  },
  {
   "cell_type": "code",
   "execution_count": 10,
   "id": "bda4c116",
   "metadata": {},
   "outputs": [
    {
     "data": {
      "text/plain": [
       "17"
      ]
     },
     "execution_count": 10,
     "metadata": {},
     "output_type": "execute_result"
    }
   ],
   "source": [
    "(3*4)+5"
   ]
  },
  {
   "cell_type": "markdown",
   "id": "7c8fd777",
   "metadata": {},
   "source": [
    "This will convert 200 minutes to hours by diving by 60"
   ]
  },
  {
   "cell_type": "code",
   "execution_count": 11,
   "id": "f604b017",
   "metadata": {},
   "outputs": [
    {
     "data": {
      "text/plain": [
       "3.3333333333333335"
      ]
     },
     "execution_count": 11,
     "metadata": {},
     "output_type": "execute_result"
    }
   ],
   "source": [
    "200/60"
   ]
  },
  {
   "cell_type": "markdown",
   "id": "2816ec7e",
   "metadata": {},
   "source": [
    "## Author\n",
    "Diego B."
   ]
  },
  {
   "cell_type": "code",
   "execution_count": null,
   "id": "cc11cd11",
   "metadata": {},
   "outputs": [],
   "source": []
  }
 ],
 "metadata": {
  "kernelspec": {
   "display_name": "Python 3 (ipykernel)",
   "language": "python",
   "name": "python3"
  },
  "language_info": {
   "codemirror_mode": {
    "name": "ipython",
    "version": 3
   },
   "file_extension": ".py",
   "mimetype": "text/x-python",
   "name": "python",
   "nbconvert_exporter": "python",
   "pygments_lexer": "ipython3",
   "version": "3.9.12"
  }
 },
 "nbformat": 4,
 "nbformat_minor": 5
}
